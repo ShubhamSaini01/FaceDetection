{
 "cells": [
  {
   "cell_type": "code",
   "execution_count": null,
   "metadata": {},
   "outputs": [],
   "source": [
    "# !pip install dlib --verbose"
   ]
  },
  {
   "cell_type": "code",
   "execution_count": 13,
   "metadata": {},
   "outputs": [],
   "source": [
    "import sys\n",
    "\n",
    "import dlib"
   ]
  },
  {
   "cell_type": "code",
   "execution_count": 14,
   "metadata": {},
   "outputs": [],
   "source": [
    "detector = dlib.get_frontal_face_detector()\n",
    "win = dlib.image_window()"
   ]
  },
  {
   "cell_type": "code",
   "execution_count": 15,
   "metadata": {},
   "outputs": [
    {
     "data": {
      "text/plain": [
       "['face_detection.ipynb',\n",
       " '2007_007763.jpg',\n",
       " '2008_001322.jpg',\n",
       " '.ipynb_checkpoints',\n",
       " '2008_002079.jpg',\n",
       " '2008_001009.jpg',\n",
       " '2008_002470.jpg']"
      ]
     },
     "execution_count": 15,
     "metadata": {},
     "output_type": "execute_result"
    }
   ],
   "source": [
    "import os\n",
    "os.listdir(os.getcwd())"
   ]
  },
  {
   "cell_type": "code",
   "execution_count": 16,
   "metadata": {},
   "outputs": [
    {
     "name": "stdout",
     "output_type": "stream",
     "text": [
      "Processing file: 2007_007763.jpg\n",
      "Number of faces detected: 7\n",
      "Detection 0: Left: 93 Top: 194 Right: 129 Bottom: 230\n",
      "Detection 1: Left: 193 Top: 90 Right: 229 Bottom: 126\n",
      "Detection 2: Left: 293 Top: 86 Right: 329 Bottom: 122\n",
      "Detection 3: Left: 157 Top: 114 Right: 193 Bottom: 150\n",
      "Detection 4: Left: 177 Top: 214 Right: 213 Bottom: 250\n",
      "Detection 5: Left: 381 Top: 89 Right: 424 Bottom: 132\n",
      "Detection 6: Left: 309 Top: 233 Right: 352 Bottom: 276\n"
     ]
    }
   ],
   "source": [
    "for f in os.listdir(os.getcwd()):\n",
    "    if(len(f.split('.')[-1])>3):\n",
    "        continue\n",
    "    print(\"Processing file: {}\".format(f))\n",
    "    img = dlib.load_rgb_image(f)\n",
    "    # The 1 in the second argument indicates that we should upsample the image\n",
    "    # 1 time.  This will make everything bigger and allow us to detect more\n",
    "    # faces.\n",
    "    dets = detector(img, 1)\n",
    "    print(\"Number of faces detected: {}\".format(len(dets)))\n",
    "    for i, d in enumerate(dets):\n",
    "        print(\"Detection {}: Left: {} Top: {} Right: {} Bottom: {}\".format(\n",
    "            i, d.left(), d.top(), d.right(), d.bottom()))\n",
    "\n",
    "    win.clear_overlay()\n",
    "    win.set_image(img)\n",
    "    win.add_overlay(dets)\n",
    "    dlib.hit_enter_to_continue()\n",
    "    break"
   ]
  },
  {
   "cell_type": "code",
   "execution_count": null,
   "metadata": {},
   "outputs": [],
   "source": [
    "# # Finally, if you really want to you can ask the detector to tell you the score\n",
    "# # for each detection.  The score is bigger for more confident detections.\n",
    "# # The third argument to run is an optional adjustment to the detection threshold,\n",
    "# # where a negative value will return more detections and a positive value fewer.\n",
    "# # Also, the idx tells you which of the face sub-detectors matched.  This can be\n",
    "# # used to broadly identify faces in different orientations.\n",
    "# if (len(sys.argv[1:]) > 0):\n",
    "#     img = dlib.load_rgb_image(sys.argv[1])\n",
    "#     dets, scores, idx = detector.run(img, 1, -1)\n",
    "#     for i, d in enumerate(dets):\n",
    "#         print(\"Detection {}, score: {}, face_type:{}\".format(\n",
    "#             d, scores[i], idx[i]))"
   ]
  }
 ],
 "metadata": {
  "kernelspec": {
   "display_name": "Python 3",
   "language": "python",
   "name": "python3"
  },
  "language_info": {
   "codemirror_mode": {
    "name": "ipython",
    "version": 3
   },
   "file_extension": ".py",
   "mimetype": "text/x-python",
   "name": "python",
   "nbconvert_exporter": "python",
   "pygments_lexer": "ipython3",
   "version": "3.7.6"
  }
 },
 "nbformat": 4,
 "nbformat_minor": 4
}
